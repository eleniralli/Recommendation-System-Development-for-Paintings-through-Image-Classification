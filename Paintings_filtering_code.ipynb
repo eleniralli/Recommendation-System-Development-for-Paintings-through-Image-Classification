{
 "cells": [
  {
   "cell_type": "markdown",
   "id": "d8e09d3d",
   "metadata": {},
   "source": [
    "# Recommendation System development for paintings through Image Classification - *Part 1*\n",
    "\n",
    "The purpose of this assignment was to develop a recommendation system that classifies paintings based on specific target labels and suggests similar artworks to enhance user engagement. Below are the key objectives and steps taken during the project:\n",
    "- Deep-learning classification model: The primary goal was to create a multi-output classifier to predict five target labels—artist, subject, style, materials, and period of the painting.\n",
    "- Recommendation system: The second goal was to develop a system that recommends similar paintings based on the predicted labels and extracted image features, to maximize user engagement.\n",
    "- Model architectures: Two deep learning approaches were used—Convolutional Neural Networks (EfficientNetB3, VGG16, VGG19) and Vision Transformer (Google's ViT model).\n",
    "- Performance comparison: After evaluating the models, the custom Vision Transformer (ViT) classifier outperformed the CNN-based models in terms of accuracy.\n",
    "- Embedding-based recommendation: The selected ViT model was used to extract both visual and label features as embeddings, which were then utilized to calculate the similarity between paintings for the recommendation system.\n",
    "\n",
    "<br/>\n",
    "\n",
    "The initial dataset utilized has been collected from \"Best Artworks of All Time\", the \"data.csv\" file and can be accessed at [kaggle](https://www.kaggle.com/datasets/ikarus777/best-artworks-of-all-time?fbclid=IwY2xjawFiYOBleHRuA2FlbQIxMAABHSNw_G7kJ3z-yZSqa6CRmeXTRPDIOA1eF8HZV92KjPmy-NzeE0QYRyTtdw_aem_oKhEYzZut1CgX1-bduN3NA) .\n",
    "\n",
    "<br/>\n",
    "\n",
    "In this part (part 1) each of the 400 selected image titles is mapped to its corresponding file path in the images folder for use in the project.\n",
    "\n",
    "<br/>\n",
    "\n",
    "To conduct file management and data manipulation, several libraries have been employed, including:\n",
    "\n",
    "- `numpy`\n",
    "- `shutil`\n",
    "- `os`\n",
    "\n",
    "---\n",
    "> MSc Business Analytics   <br/>\n",
    "> Athens University of Economics and Business  <br/>\n",
    "> Machine Learning and Content Analytics <br/>\n",
    ">  <br/>\n",
    "> Papadimitriou Anna, Registration number: f2822311  <br/>\n",
    "> Ralli Eleni, Registration number: f2822312  <br/>\n",
    "> Lakkas-Pyknis Evangelos, Registration number: f2822306 <br/>\n",
    "> Mesolora Stamatoula Gerasimoula, Registration number: f2822308  <br/>"
   ]
  },
  {
   "cell_type": "code",
   "execution_count": 2,
   "id": "b705e183",
   "metadata": {
    "id": "f9a0d5aa-b98d-480b-b1f4-83d8b6375d0e"
   },
   "outputs": [],
   "source": [
    "import os\n",
    "import shutil\n",
    "import pandas as pd"
   ]
  },
  {
   "cell_type": "markdown",
   "id": "606755a5",
   "metadata": {},
   "source": [
    "### Paintings Dataset\n",
    "\n",
    "We load the Excel file containing paintings data into a pandas DataFrame.\n",
    "\n",
    "<br/>\n",
    "\n",
    "The dataset consists of 400 rows and 8 columns:\n",
    "- Image ID: The ID of each painting\n",
    "- Title: The title of each painting\n",
    "- Artist: The artist of each painting  \n",
    "- Subject: The subject of each painting\n",
    "- Style: The style of each painting\n",
    "- Materials: The materials used for each painting  \n",
    "- Start: The first year of the period during which the painting was created (counting years by 10)\n",
    "- End: The last year of the period during which the painting was created (counting years by 10)\n"
   ]
  },
  {
   "cell_type": "code",
   "execution_count": 3,
   "id": "2e2adf49",
   "metadata": {
    "id": "fb4ca33a-9d05-4f96-ad91-280a5838f6ea"
   },
   "outputs": [
    {
     "ename": "FileNotFoundError",
     "evalue": "[Errno 2] No such file or directory: 'C:\\\\Users\\\\Μπαμπης\\\\Documents\\\\MSc Business Analytics\\\\ML and content analytics\\\\pinakes teliko.xlsx'",
     "output_type": "error",
     "traceback": [
      "\u001b[1;31m---------------------------------------------------------------------------\u001b[0m",
      "\u001b[1;31mFileNotFoundError\u001b[0m                         Traceback (most recent call last)",
      "Cell \u001b[1;32mIn[3], line 3\u001b[0m\n\u001b[0;32m      1\u001b[0m excel_path \u001b[38;5;241m=\u001b[39m \u001b[38;5;124mr\u001b[39m\u001b[38;5;124m\"\u001b[39m\u001b[38;5;124mC:\u001b[39m\u001b[38;5;124m\\\u001b[39m\u001b[38;5;124mUsers\u001b[39m\u001b[38;5;124m\\\u001b[39m\u001b[38;5;124mΜπαμπης\u001b[39m\u001b[38;5;124m\\\u001b[39m\u001b[38;5;124mDocuments\u001b[39m\u001b[38;5;124m\\\u001b[39m\u001b[38;5;124mMSc Business Analytics\u001b[39m\u001b[38;5;124m\\\u001b[39m\u001b[38;5;124mML and content analytics\u001b[39m\u001b[38;5;124m\\\u001b[39m\u001b[38;5;124mpinakes teliko.xlsx\u001b[39m\u001b[38;5;124m\"\u001b[39m\n\u001b[1;32m----> 3\u001b[0m df \u001b[38;5;241m=\u001b[39m pd\u001b[38;5;241m.\u001b[39mread_excel(excel_path)\n\u001b[0;32m      4\u001b[0m \u001b[38;5;28mprint\u001b[39m(df\u001b[38;5;241m.\u001b[39mshape)\n\u001b[0;32m      5\u001b[0m df\u001b[38;5;241m.\u001b[39mhead()\n",
      "File \u001b[1;32m~\\anaconda3\\Lib\\site-packages\\pandas\\io\\excel\\_base.py:478\u001b[0m, in \u001b[0;36mread_excel\u001b[1;34m(io, sheet_name, header, names, index_col, usecols, dtype, engine, converters, true_values, false_values, skiprows, nrows, na_values, keep_default_na, na_filter, verbose, parse_dates, date_parser, date_format, thousands, decimal, comment, skipfooter, storage_options, dtype_backend)\u001b[0m\n\u001b[0;32m    476\u001b[0m \u001b[38;5;28;01mif\u001b[39;00m \u001b[38;5;129;01mnot\u001b[39;00m \u001b[38;5;28misinstance\u001b[39m(io, ExcelFile):\n\u001b[0;32m    477\u001b[0m     should_close \u001b[38;5;241m=\u001b[39m \u001b[38;5;28;01mTrue\u001b[39;00m\n\u001b[1;32m--> 478\u001b[0m     io \u001b[38;5;241m=\u001b[39m ExcelFile(io, storage_options\u001b[38;5;241m=\u001b[39mstorage_options, engine\u001b[38;5;241m=\u001b[39mengine)\n\u001b[0;32m    479\u001b[0m \u001b[38;5;28;01melif\u001b[39;00m engine \u001b[38;5;129;01mand\u001b[39;00m engine \u001b[38;5;241m!=\u001b[39m io\u001b[38;5;241m.\u001b[39mengine:\n\u001b[0;32m    480\u001b[0m     \u001b[38;5;28;01mraise\u001b[39;00m \u001b[38;5;167;01mValueError\u001b[39;00m(\n\u001b[0;32m    481\u001b[0m         \u001b[38;5;124m\"\u001b[39m\u001b[38;5;124mEngine should not be specified when passing \u001b[39m\u001b[38;5;124m\"\u001b[39m\n\u001b[0;32m    482\u001b[0m         \u001b[38;5;124m\"\u001b[39m\u001b[38;5;124man ExcelFile - ExcelFile already has the engine set\u001b[39m\u001b[38;5;124m\"\u001b[39m\n\u001b[0;32m    483\u001b[0m     )\n",
      "File \u001b[1;32m~\\anaconda3\\Lib\\site-packages\\pandas\\io\\excel\\_base.py:1496\u001b[0m, in \u001b[0;36mExcelFile.__init__\u001b[1;34m(self, path_or_buffer, engine, storage_options)\u001b[0m\n\u001b[0;32m   1494\u001b[0m     ext \u001b[38;5;241m=\u001b[39m \u001b[38;5;124m\"\u001b[39m\u001b[38;5;124mxls\u001b[39m\u001b[38;5;124m\"\u001b[39m\n\u001b[0;32m   1495\u001b[0m \u001b[38;5;28;01melse\u001b[39;00m:\n\u001b[1;32m-> 1496\u001b[0m     ext \u001b[38;5;241m=\u001b[39m inspect_excel_format(\n\u001b[0;32m   1497\u001b[0m         content_or_path\u001b[38;5;241m=\u001b[39mpath_or_buffer, storage_options\u001b[38;5;241m=\u001b[39mstorage_options\n\u001b[0;32m   1498\u001b[0m     )\n\u001b[0;32m   1499\u001b[0m     \u001b[38;5;28;01mif\u001b[39;00m ext \u001b[38;5;129;01mis\u001b[39;00m \u001b[38;5;28;01mNone\u001b[39;00m:\n\u001b[0;32m   1500\u001b[0m         \u001b[38;5;28;01mraise\u001b[39;00m \u001b[38;5;167;01mValueError\u001b[39;00m(\n\u001b[0;32m   1501\u001b[0m             \u001b[38;5;124m\"\u001b[39m\u001b[38;5;124mExcel file format cannot be determined, you must specify \u001b[39m\u001b[38;5;124m\"\u001b[39m\n\u001b[0;32m   1502\u001b[0m             \u001b[38;5;124m\"\u001b[39m\u001b[38;5;124man engine manually.\u001b[39m\u001b[38;5;124m\"\u001b[39m\n\u001b[0;32m   1503\u001b[0m         )\n",
      "File \u001b[1;32m~\\anaconda3\\Lib\\site-packages\\pandas\\io\\excel\\_base.py:1371\u001b[0m, in \u001b[0;36minspect_excel_format\u001b[1;34m(content_or_path, storage_options)\u001b[0m\n\u001b[0;32m   1368\u001b[0m \u001b[38;5;28;01mif\u001b[39;00m \u001b[38;5;28misinstance\u001b[39m(content_or_path, \u001b[38;5;28mbytes\u001b[39m):\n\u001b[0;32m   1369\u001b[0m     content_or_path \u001b[38;5;241m=\u001b[39m BytesIO(content_or_path)\n\u001b[1;32m-> 1371\u001b[0m \u001b[38;5;28;01mwith\u001b[39;00m get_handle(\n\u001b[0;32m   1372\u001b[0m     content_or_path, \u001b[38;5;124m\"\u001b[39m\u001b[38;5;124mrb\u001b[39m\u001b[38;5;124m\"\u001b[39m, storage_options\u001b[38;5;241m=\u001b[39mstorage_options, is_text\u001b[38;5;241m=\u001b[39m\u001b[38;5;28;01mFalse\u001b[39;00m\n\u001b[0;32m   1373\u001b[0m ) \u001b[38;5;28;01mas\u001b[39;00m handle:\n\u001b[0;32m   1374\u001b[0m     stream \u001b[38;5;241m=\u001b[39m handle\u001b[38;5;241m.\u001b[39mhandle\n\u001b[0;32m   1375\u001b[0m     stream\u001b[38;5;241m.\u001b[39mseek(\u001b[38;5;241m0\u001b[39m)\n",
      "File \u001b[1;32m~\\anaconda3\\Lib\\site-packages\\pandas\\io\\common.py:868\u001b[0m, in \u001b[0;36mget_handle\u001b[1;34m(path_or_buf, mode, encoding, compression, memory_map, is_text, errors, storage_options)\u001b[0m\n\u001b[0;32m    859\u001b[0m         handle \u001b[38;5;241m=\u001b[39m \u001b[38;5;28mopen\u001b[39m(\n\u001b[0;32m    860\u001b[0m             handle,\n\u001b[0;32m    861\u001b[0m             ioargs\u001b[38;5;241m.\u001b[39mmode,\n\u001b[1;32m   (...)\u001b[0m\n\u001b[0;32m    864\u001b[0m             newline\u001b[38;5;241m=\u001b[39m\u001b[38;5;124m\"\u001b[39m\u001b[38;5;124m\"\u001b[39m,\n\u001b[0;32m    865\u001b[0m         )\n\u001b[0;32m    866\u001b[0m     \u001b[38;5;28;01melse\u001b[39;00m:\n\u001b[0;32m    867\u001b[0m         \u001b[38;5;66;03m# Binary mode\u001b[39;00m\n\u001b[1;32m--> 868\u001b[0m         handle \u001b[38;5;241m=\u001b[39m \u001b[38;5;28mopen\u001b[39m(handle, ioargs\u001b[38;5;241m.\u001b[39mmode)\n\u001b[0;32m    869\u001b[0m     handles\u001b[38;5;241m.\u001b[39mappend(handle)\n\u001b[0;32m    871\u001b[0m \u001b[38;5;66;03m# Convert BytesIO or file objects passed with an encoding\u001b[39;00m\n",
      "\u001b[1;31mFileNotFoundError\u001b[0m: [Errno 2] No such file or directory: 'C:\\\\Users\\\\Μπαμπης\\\\Documents\\\\MSc Business Analytics\\\\ML and content analytics\\\\pinakes teliko.xlsx'"
     ]
    }
   ],
   "source": [
    "excel_path = r\"C:\\Users\\Μπαμπης\\Documents\\MSc Business Analytics\\ML and content analytics\\pinakes teliko.xlsx\"\n",
    "\n",
    "df = pd.read_excel(excel_path)\n",
    "print(df.shape)\n",
    "df.head()"
   ]
  },
  {
   "cell_type": "markdown",
   "id": "85e50d50",
   "metadata": {},
   "source": [
    "### Directory for Filtered Paintings\n",
    "The code below creates a new directory to store filtered paintings, checking that it does not already exist."
   ]
  },
  {
   "cell_type": "code",
   "execution_count": null,
   "id": "5ad1cbca-5021-49ed-9979-5a854d4c17d0",
   "metadata": {
    "id": "5ad1cbca-5021-49ed-9979-5a854d4c17d0"
   },
   "outputs": [],
   "source": [
    "filtered_paintings_path = r\"C:\\Users\\Μπαμπης\\Documents\\MSc Business Analytics\\ML and content analytics\\filtered_paintings\"\n",
    "\n",
    "if not os.path.exists(filtered_paintings_path):\n",
    "    os.makedirs(filtered_paintings_path)"
   ]
  },
  {
   "cell_type": "markdown",
   "id": "71aef93f",
   "metadata": {},
   "source": [
    "### Filtering and Copying Valid Images\n",
    "In this section, we:\n",
    "\n",
    "1. Specify the source directory containing the resized images\n",
    "2. Extract a list of valid image titles from the Excel file\n",
    "3. Iterate through the images in the source directory and:\n",
    "    - Check if the image title (without extension) matches any of the valid image IDs\n",
    "    - If a match is found, the image is copied to the destination folder (`filtered_paintings_path`) using `shutil.copy()`"
   ]
  },
  {
   "cell_type": "code",
   "execution_count": null,
   "id": "7b80dd79-f871-4e2d-aa95-ce2030a863c3",
   "metadata": {
    "id": "7b80dd79-f871-4e2d-aa95-ce2030a863c3"
   },
   "outputs": [],
   "source": [
    "source_dir = r\"C:\\Users\\Μπαμπης\\Documents\\MSc Business Analytics\\ML and content analytics\\resized1\"\n",
    "\n",
    "valid_image_ids = df['Image ID'].tolist()\n",
    "\n",
    "for image_file in os.listdir(source_dir):\n",
    "    image_title = os.path.splitext(image_file)[0]\n",
    "\n",
    "    if image_title in valid_image_ids:\n",
    "        source_file = os.path.join(source_dir, image_file)\n",
    "        destination_file = os.path.join(filtered_paintings_path, image_file)\n",
    "\n",
    "        shutil.copy(source_file, destination_file)"
   ]
  },
  {
   "cell_type": "markdown",
   "id": "d8497b7d",
   "metadata": {},
   "source": [
    "As we can see, the images have been mapped successfully and the 'filtered_paintings' directory contains 400 images."
   ]
  },
  {
   "cell_type": "code",
   "execution_count": null,
   "id": "089bd9a5-5224-4db1-9dff-d148d14a4b65",
   "metadata": {
    "id": "089bd9a5-5224-4db1-9dff-d148d14a4b65",
    "outputId": "ebc95e8a-869f-4dba-ddda-288ea80d554e"
   },
   "outputs": [
    {
     "data": {
      "text/plain": [
       "399"
      ]
     },
     "execution_count": 10,
     "metadata": {},
     "output_type": "execute_result"
    }
   ],
   "source": [
    "file_list = os.listdir(filtered_paintings_path)\n",
    "len(file_list)"
   ]
  }
 ],
 "metadata": {
  "colab": {
   "provenance": []
  },
  "kernelspec": {
   "display_name": "Python 3 (ipykernel)",
   "language": "python",
   "name": "python3"
  },
  "language_info": {
   "codemirror_mode": {
    "name": "ipython",
    "version": 3
   },
   "file_extension": ".py",
   "mimetype": "text/x-python",
   "name": "python",
   "nbconvert_exporter": "python",
   "pygments_lexer": "ipython3",
   "version": "3.11.5"
  }
 },
 "nbformat": 4,
 "nbformat_minor": 5
}
